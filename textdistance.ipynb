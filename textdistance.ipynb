{
 "metadata": {
  "language_info": {
   "codemirror_mode": {
    "name": "ipython",
    "version": 3
   },
   "file_extension": ".py",
   "mimetype": "text/x-python",
   "name": "python",
   "nbconvert_exporter": "python",
   "pygments_lexer": "ipython3",
   "version": "3.6.9"
  },
  "orig_nbformat": 2,
  "kernelspec": {
   "name": "python369jvsc74a57bd0e1740d811f701c273ec8b59966824d90fe5a17333886f298b631fb05e12f1009",
   "display_name": "Python 3.6.9 64-bit ('fuzzy_matching': virtualenvwrapper)"
  }
 },
 "nbformat": 4,
 "nbformat_minor": 2,
 "cells": [
  {
   "cell_type": "code",
   "execution_count": 1,
   "metadata": {},
   "outputs": [],
   "source": [
    "import textdistance as td"
   ]
  },
  {
   "cell_type": "code",
   "execution_count": 2,
   "metadata": {},
   "outputs": [
    {
     "output_type": "execute_result",
     "data": {
      "text/plain": [
       "0"
      ]
     },
     "metadata": {},
     "execution_count": 2
    }
   ],
   "source": [
    "td.levenshtein(\"Test\",\"Test\")"
   ]
  },
  {
   "cell_type": "code",
   "execution_count": 3,
   "metadata": {},
   "outputs": [
    {
     "output_type": "execute_result",
     "data": {
      "text/plain": [
       "1"
      ]
     },
     "metadata": {},
     "execution_count": 3
    }
   ],
   "source": [
    "\n",
    "td.levenshtein(\"Test\",\"Text\")"
   ]
  },
  {
   "cell_type": "code",
   "execution_count": 4,
   "metadata": {},
   "outputs": [
    {
     "output_type": "execute_result",
     "data": {
      "text/plain": [
       "0.8052910052910053"
      ]
     },
     "metadata": {},
     "execution_count": 4
    }
   ],
   "source": [
    "td.jaro_winkler(\"this test\",\"that test\")"
   ]
  },
  {
   "cell_type": "code",
   "execution_count": 5,
   "metadata": {},
   "outputs": [
    {
     "output_type": "execute_result",
     "data": {
      "text/plain": [
       "0.3333333333333333"
      ]
     },
     "metadata": {},
     "execution_count": 5
    }
   ],
   "source": [
    "td.jaccard('this','that')"
   ]
  },
  {
   "cell_type": "code",
   "execution_count": 6,
   "metadata": {},
   "outputs": [
    {
     "output_type": "execute_result",
     "data": {
      "text/plain": [
       "1.0"
      ]
     },
     "metadata": {},
     "execution_count": 6
    }
   ],
   "source": [
    "td.cosine('apple','ppale')"
   ]
  },
  {
   "cell_type": "code",
   "execution_count": 7,
   "metadata": {},
   "outputs": [
    {
     "output_type": "execute_result",
     "data": {
      "text/plain": [
       "2"
      ]
     },
     "metadata": {},
     "execution_count": 7
    }
   ],
   "source": [
    "td.mra('alex','alice')"
   ]
  },
  {
   "cell_type": "code",
   "execution_count": 8,
   "metadata": {},
   "outputs": [
    {
     "output_type": "execute_result",
     "data": {
      "text/plain": [
       "5"
      ]
     },
     "metadata": {},
     "execution_count": 8
    }
   ],
   "source": [
    "td.editex('alex','alice')"
   ]
  },
  {
   "cell_type": "code",
   "execution_count": 9,
   "metadata": {},
   "outputs": [
    {
     "output_type": "execute_result",
     "data": {
      "text/plain": [
       "14"
      ]
     },
     "metadata": {},
     "execution_count": 9
    }
   ],
   "source": [
    "td.editex('tie','euphemism')"
   ]
  },
  {
   "cell_type": "code",
   "execution_count": 10,
   "metadata": {},
   "outputs": [
    {
     "output_type": "execute_result",
     "data": {
      "text/plain": [
       "0.4"
      ]
     },
     "metadata": {},
     "execution_count": 10
    }
   ],
   "source": [
    "td.hamming.normalized_similarity('alex','alice')"
   ]
  },
  {
   "cell_type": "code",
   "execution_count": 11,
   "metadata": {},
   "outputs": [
    {
     "output_type": "execute_result",
     "data": {
      "text/plain": [
       "1.0"
      ]
     },
     "metadata": {},
     "execution_count": 11
    }
   ],
   "source": [
    "td.hamming.normalized_similarity('tie','tie')"
   ]
  },
  {
   "cell_type": "code",
   "execution_count": 12,
   "metadata": {},
   "outputs": [
    {
     "output_type": "execute_result",
     "data": {
      "text/plain": [
       "'Distance is 3'"
      ]
     },
     "metadata": {},
     "execution_count": 12
    }
   ],
   "source": [
    "# Iterative Levenshtein Function\n",
    "\n",
    "def iterative_levenshtein(s, t):\n",
    "    \"\"\" \n",
    "        iterative_levenshtein(s, t) -> ldist\n",
    "        ldist is the Levenshtein distance between the strings \n",
    "        s and t.\n",
    "        For all i and j, dist[i,j] will contain the Levenshtein \n",
    "        distance between the first i characters of s and the \n",
    "        first j characters of t\n",
    "    \"\"\"\n",
    "\n",
    "    rows = len(s)+1\n",
    "    cols = len(t)+1\n",
    "    dist = [[0 for x in range(cols)] for x in range(rows)]\n",
    "\n",
    "    # source prefixes can be transformed into empty strings \n",
    "    # by deletions:\n",
    "    for i in range(1, rows):\n",
    "        dist[i][0] = i\n",
    "\n",
    "    # target prefixes can be created from an empty source string\n",
    "    # by inserting the characters\n",
    "    for i in range(1, cols):\n",
    "        dist[0][i] = i\n",
    "        \n",
    "    for col in range(1, cols):\n",
    "        for row in range(1, rows):\n",
    "            if s[row-1] == t[col-1]:\n",
    "                cost = 0\n",
    "            else:\n",
    "                cost = 1\n",
    "            dist[row][col] = min(dist[row-1][col] + 1,      # deletion\n",
    "                                 dist[row][col-1] + 1,      # insertion\n",
    "                                 dist[row-1][col-1] + cost) # substitution\n",
    "\n",
    "    # for r in range(rows):\n",
    "    #     print(dist[r])\n",
    "    \n",
    " \n",
    "    return dist[row][col]\n",
    "\n",
    "f\"Distance is {iterative_levenshtein('Alex', 'Alice')}\""
   ]
  },
  {
   "cell_type": "code",
   "execution_count": 23,
   "metadata": {},
   "outputs": [],
   "source": [
    "# Fuzzy Joins\n",
    "# https://python-bloggers.com/2020/12/fuzzy-joins-tutorial/\n",
    "\n",
    "import pandas as pd\n",
    "from fuzzywuzzy import fuzz\n",
    "from fuzzywuzzy import process"
   ]
  },
  {
   "cell_type": "code",
   "execution_count": 24,
   "metadata": {},
   "outputs": [],
   "source": [
    "df1 = pd.DataFrame({'Text_A':['12 Estias Street, Ampelokipi',\n",
    "                             'Georgios Pipis',\n",
    "                             'fuzzy much in python',\n",
    "                             'Today is Friday! TGIF',\n",
    "                             'This is a partial text']})\n",
    "\n",
    "df2 = pd.DataFrame({'Text_B':['Predictive Hacks is a Data Science Blog',\n",
    "                             'Abelokipi, Estias Str 12',\n",
    "                             'Fuzzy matching in Python',\n",
    "                             'George P. Pipis',\n",
    "                             'partial text']})"
   ]
  },
  {
   "cell_type": "code",
   "execution_count": 26,
   "metadata": {},
   "outputs": [
    {
     "output_type": "execute_result",
     "data": {
      "text/plain": [
       "                         Text_A\n",
       "0  12 Estias Street, Ampelokipi\n",
       "1                Georgios Pipis\n",
       "2          fuzzy much in python\n",
       "3         Today is Friday! TGIF\n",
       "4        This is a partial text"
      ],
      "text/html": "<div>\n<style scoped>\n    .dataframe tbody tr th:only-of-type {\n        vertical-align: middle;\n    }\n\n    .dataframe tbody tr th {\n        vertical-align: top;\n    }\n\n    .dataframe thead th {\n        text-align: right;\n    }\n</style>\n<table border=\"1\" class=\"dataframe\">\n  <thead>\n    <tr style=\"text-align: right;\">\n      <th></th>\n      <th>Text_A</th>\n    </tr>\n  </thead>\n  <tbody>\n    <tr>\n      <th>0</th>\n      <td>12 Estias Street, Ampelokipi</td>\n    </tr>\n    <tr>\n      <th>1</th>\n      <td>Georgios Pipis</td>\n    </tr>\n    <tr>\n      <th>2</th>\n      <td>fuzzy much in python</td>\n    </tr>\n    <tr>\n      <th>3</th>\n      <td>Today is Friday! TGIF</td>\n    </tr>\n    <tr>\n      <th>4</th>\n      <td>This is a partial text</td>\n    </tr>\n  </tbody>\n</table>\n</div>"
     },
     "metadata": {},
     "execution_count": 26
    }
   ],
   "source": [
    "df1"
   ]
  },
  {
   "cell_type": "code",
   "execution_count": 27,
   "metadata": {},
   "outputs": [
    {
     "output_type": "execute_result",
     "data": {
      "text/plain": [
       "                                    Text_B\n",
       "0  Predictive Hacks is a Data Science Blog\n",
       "1                 Abelokipi, Estias Str 12\n",
       "2                 Fuzzy matching in Python\n",
       "3                          George P. Pipis\n",
       "4                             partial text"
      ],
      "text/html": "<div>\n<style scoped>\n    .dataframe tbody tr th:only-of-type {\n        vertical-align: middle;\n    }\n\n    .dataframe tbody tr th {\n        vertical-align: top;\n    }\n\n    .dataframe thead th {\n        text-align: right;\n    }\n</style>\n<table border=\"1\" class=\"dataframe\">\n  <thead>\n    <tr style=\"text-align: right;\">\n      <th></th>\n      <th>Text_B</th>\n    </tr>\n  </thead>\n  <tbody>\n    <tr>\n      <th>0</th>\n      <td>Predictive Hacks is a Data Science Blog</td>\n    </tr>\n    <tr>\n      <th>1</th>\n      <td>Abelokipi, Estias Str 12</td>\n    </tr>\n    <tr>\n      <th>2</th>\n      <td>Fuzzy matching in Python</td>\n    </tr>\n    <tr>\n      <th>3</th>\n      <td>George P. Pipis</td>\n    </tr>\n    <tr>\n      <th>4</th>\n      <td>partial text</td>\n    </tr>\n  </tbody>\n</table>\n</div>"
     },
     "metadata": {},
     "execution_count": 27
    }
   ],
   "source": [
    "df2"
   ]
  },
  {
   "cell_type": "code",
   "execution_count": 28,
   "metadata": {},
   "outputs": [
    {
     "output_type": "execute_result",
     "data": {
      "text/plain": [
       "                          Text_A                                   Text_B\n",
       "0   12 Estias Street, Ampelokipi  Predictive Hacks is a Data Science Blog\n",
       "1   12 Estias Street, Ampelokipi                 Abelokipi, Estias Str 12\n",
       "2   12 Estias Street, Ampelokipi                 Fuzzy matching in Python\n",
       "3   12 Estias Street, Ampelokipi                          George P. Pipis\n",
       "4   12 Estias Street, Ampelokipi                             partial text\n",
       "5                 Georgios Pipis  Predictive Hacks is a Data Science Blog\n",
       "6                 Georgios Pipis                 Abelokipi, Estias Str 12\n",
       "7                 Georgios Pipis                 Fuzzy matching in Python\n",
       "8                 Georgios Pipis                          George P. Pipis\n",
       "9                 Georgios Pipis                             partial text\n",
       "10          fuzzy much in python  Predictive Hacks is a Data Science Blog\n",
       "11          fuzzy much in python                 Abelokipi, Estias Str 12\n",
       "12          fuzzy much in python                 Fuzzy matching in Python\n",
       "13          fuzzy much in python                          George P. Pipis\n",
       "14          fuzzy much in python                             partial text\n",
       "15         Today is Friday! TGIF  Predictive Hacks is a Data Science Blog\n",
       "16         Today is Friday! TGIF                 Abelokipi, Estias Str 12\n",
       "17         Today is Friday! TGIF                 Fuzzy matching in Python\n",
       "18         Today is Friday! TGIF                          George P. Pipis\n",
       "19         Today is Friday! TGIF                             partial text\n",
       "20        This is a partial text  Predictive Hacks is a Data Science Blog\n",
       "21        This is a partial text                 Abelokipi, Estias Str 12\n",
       "22        This is a partial text                 Fuzzy matching in Python\n",
       "23        This is a partial text                          George P. Pipis\n",
       "24        This is a partial text                             partial text"
      ],
      "text/html": "<div>\n<style scoped>\n    .dataframe tbody tr th:only-of-type {\n        vertical-align: middle;\n    }\n\n    .dataframe tbody tr th {\n        vertical-align: top;\n    }\n\n    .dataframe thead th {\n        text-align: right;\n    }\n</style>\n<table border=\"1\" class=\"dataframe\">\n  <thead>\n    <tr style=\"text-align: right;\">\n      <th></th>\n      <th>Text_A</th>\n      <th>Text_B</th>\n    </tr>\n  </thead>\n  <tbody>\n    <tr>\n      <th>0</th>\n      <td>12 Estias Street, Ampelokipi</td>\n      <td>Predictive Hacks is a Data Science Blog</td>\n    </tr>\n    <tr>\n      <th>1</th>\n      <td>12 Estias Street, Ampelokipi</td>\n      <td>Abelokipi, Estias Str 12</td>\n    </tr>\n    <tr>\n      <th>2</th>\n      <td>12 Estias Street, Ampelokipi</td>\n      <td>Fuzzy matching in Python</td>\n    </tr>\n    <tr>\n      <th>3</th>\n      <td>12 Estias Street, Ampelokipi</td>\n      <td>George P. Pipis</td>\n    </tr>\n    <tr>\n      <th>4</th>\n      <td>12 Estias Street, Ampelokipi</td>\n      <td>partial text</td>\n    </tr>\n    <tr>\n      <th>5</th>\n      <td>Georgios Pipis</td>\n      <td>Predictive Hacks is a Data Science Blog</td>\n    </tr>\n    <tr>\n      <th>6</th>\n      <td>Georgios Pipis</td>\n      <td>Abelokipi, Estias Str 12</td>\n    </tr>\n    <tr>\n      <th>7</th>\n      <td>Georgios Pipis</td>\n      <td>Fuzzy matching in Python</td>\n    </tr>\n    <tr>\n      <th>8</th>\n      <td>Georgios Pipis</td>\n      <td>George P. Pipis</td>\n    </tr>\n    <tr>\n      <th>9</th>\n      <td>Georgios Pipis</td>\n      <td>partial text</td>\n    </tr>\n    <tr>\n      <th>10</th>\n      <td>fuzzy much in python</td>\n      <td>Predictive Hacks is a Data Science Blog</td>\n    </tr>\n    <tr>\n      <th>11</th>\n      <td>fuzzy much in python</td>\n      <td>Abelokipi, Estias Str 12</td>\n    </tr>\n    <tr>\n      <th>12</th>\n      <td>fuzzy much in python</td>\n      <td>Fuzzy matching in Python</td>\n    </tr>\n    <tr>\n      <th>13</th>\n      <td>fuzzy much in python</td>\n      <td>George P. Pipis</td>\n    </tr>\n    <tr>\n      <th>14</th>\n      <td>fuzzy much in python</td>\n      <td>partial text</td>\n    </tr>\n    <tr>\n      <th>15</th>\n      <td>Today is Friday! TGIF</td>\n      <td>Predictive Hacks is a Data Science Blog</td>\n    </tr>\n    <tr>\n      <th>16</th>\n      <td>Today is Friday! TGIF</td>\n      <td>Abelokipi, Estias Str 12</td>\n    </tr>\n    <tr>\n      <th>17</th>\n      <td>Today is Friday! TGIF</td>\n      <td>Fuzzy matching in Python</td>\n    </tr>\n    <tr>\n      <th>18</th>\n      <td>Today is Friday! TGIF</td>\n      <td>George P. Pipis</td>\n    </tr>\n    <tr>\n      <th>19</th>\n      <td>Today is Friday! TGIF</td>\n      <td>partial text</td>\n    </tr>\n    <tr>\n      <th>20</th>\n      <td>This is a partial text</td>\n      <td>Predictive Hacks is a Data Science Blog</td>\n    </tr>\n    <tr>\n      <th>21</th>\n      <td>This is a partial text</td>\n      <td>Abelokipi, Estias Str 12</td>\n    </tr>\n    <tr>\n      <th>22</th>\n      <td>This is a partial text</td>\n      <td>Fuzzy matching in Python</td>\n    </tr>\n    <tr>\n      <th>23</th>\n      <td>This is a partial text</td>\n      <td>George P. Pipis</td>\n    </tr>\n    <tr>\n      <th>24</th>\n      <td>This is a partial text</td>\n      <td>partial text</td>\n    </tr>\n  </tbody>\n</table>\n</div>"
     },
     "metadata": {},
     "execution_count": 28
    }
   ],
   "source": [
    "df1['dummy'] = True\n",
    "df2['dummy'] = True\n",
    "\n",
    "df = pd.merge(df1, df2, on='dummy')\n",
    "\n",
    "df.drop('dummy', axis=1, inplace=True)\n",
    "df"
   ]
  },
  {
   "cell_type": "code",
   "execution_count": 29,
   "metadata": {},
   "outputs": [],
   "source": [
    "# FuzzyWuzzy Library\n",
    "\n",
    "# We will caclulate the follwing ratios between the two columns of our data frame:\n",
    "\n",
    "#     Ratio: It refers to the Levenshtein Distance Ratio.\n",
    "#     Partial Ratio: Assume that we are dealing with two strings of different lengths such as L1 and L2, and assume that L1 is less than L2. Then the algorithm seeks the score of the best matching of length -L1 substring.\n",
    "#     Token Sort Ratio: First it removes punctuations and converts the text to lower case and then it tokenizes it. Then it sorts the tokens alphabetically and then it joins them in a single string.\n",
    "#     Token Set Ratio: Similar to the Token Sort Ratio, but it takes into consideration the unique tokens.\n",
    "\n",
    "# Below we will return these four measures by adding them as columns to the joined data frame."
   ]
  },
  {
   "cell_type": "code",
   "execution_count": 30,
   "metadata": {},
   "outputs": [
    {
     "output_type": "execute_result",
     "data": {
      "text/plain": [
       "                          Text_A                                   Text_B  \\\n",
       "0   12 Estias Street, Ampelokipi  Predictive Hacks is a Data Science Blog   \n",
       "1   12 Estias Street, Ampelokipi                 Abelokipi, Estias Str 12   \n",
       "2   12 Estias Street, Ampelokipi                 Fuzzy matching in Python   \n",
       "3   12 Estias Street, Ampelokipi                          George P. Pipis   \n",
       "4   12 Estias Street, Ampelokipi                             partial text   \n",
       "5                 Georgios Pipis  Predictive Hacks is a Data Science Blog   \n",
       "6                 Georgios Pipis                 Abelokipi, Estias Str 12   \n",
       "7                 Georgios Pipis                 Fuzzy matching in Python   \n",
       "8                 Georgios Pipis                          George P. Pipis   \n",
       "9                 Georgios Pipis                             partial text   \n",
       "10          fuzzy much in python  Predictive Hacks is a Data Science Blog   \n",
       "11          fuzzy much in python                 Abelokipi, Estias Str 12   \n",
       "12          fuzzy much in python                 Fuzzy matching in Python   \n",
       "13          fuzzy much in python                          George P. Pipis   \n",
       "14          fuzzy much in python                             partial text   \n",
       "15         Today is Friday! TGIF  Predictive Hacks is a Data Science Blog   \n",
       "16         Today is Friday! TGIF                 Abelokipi, Estias Str 12   \n",
       "17         Today is Friday! TGIF                 Fuzzy matching in Python   \n",
       "18         Today is Friday! TGIF                          George P. Pipis   \n",
       "19         Today is Friday! TGIF                             partial text   \n",
       "20        This is a partial text  Predictive Hacks is a Data Science Blog   \n",
       "21        This is a partial text                 Abelokipi, Estias Str 12   \n",
       "22        This is a partial text                 Fuzzy matching in Python   \n",
       "23        This is a partial text                          George P. Pipis   \n",
       "24        This is a partial text                             partial text   \n",
       "\n",
       "    Ratio  Partial_Ratio  Token_Sort_Ratio  Token_Set_Ratio  \n",
       "0      33             39                39               39  \n",
       "1      46             50                88               88  \n",
       "2      23             25                27               27  \n",
       "3      28             40                29               29  \n",
       "4      35             58                41               41  \n",
       "5      23             36                34               34  \n",
       "6      32             43                38               38  \n",
       "7      21             29                21               21  \n",
       "8      76             71                79               79  \n",
       "9      23             25                23               23  \n",
       "10     24             30                24               24  \n",
       "11     18             20                23               23  \n",
       "12     77             70                86               86  \n",
       "13     23             27                18               18  \n",
       "14     19             25                19               19  \n",
       "15     27             38                31               31  \n",
       "16     31             33                33               33  \n",
       "17     27             29                45               45  \n",
       "18     22             27                24               24  \n",
       "19     30             33                38               38  \n",
       "20     43             55                39               43  \n",
       "21     35             36                40               40  \n",
       "22     26             27                39               39  \n",
       "23     22             27                33               33  \n",
       "24     71            100                71              100  "
      ],
      "text/html": "<div>\n<style scoped>\n    .dataframe tbody tr th:only-of-type {\n        vertical-align: middle;\n    }\n\n    .dataframe tbody tr th {\n        vertical-align: top;\n    }\n\n    .dataframe thead th {\n        text-align: right;\n    }\n</style>\n<table border=\"1\" class=\"dataframe\">\n  <thead>\n    <tr style=\"text-align: right;\">\n      <th></th>\n      <th>Text_A</th>\n      <th>Text_B</th>\n      <th>Ratio</th>\n      <th>Partial_Ratio</th>\n      <th>Token_Sort_Ratio</th>\n      <th>Token_Set_Ratio</th>\n    </tr>\n  </thead>\n  <tbody>\n    <tr>\n      <th>0</th>\n      <td>12 Estias Street, Ampelokipi</td>\n      <td>Predictive Hacks is a Data Science Blog</td>\n      <td>33</td>\n      <td>39</td>\n      <td>39</td>\n      <td>39</td>\n    </tr>\n    <tr>\n      <th>1</th>\n      <td>12 Estias Street, Ampelokipi</td>\n      <td>Abelokipi, Estias Str 12</td>\n      <td>46</td>\n      <td>50</td>\n      <td>88</td>\n      <td>88</td>\n    </tr>\n    <tr>\n      <th>2</th>\n      <td>12 Estias Street, Ampelokipi</td>\n      <td>Fuzzy matching in Python</td>\n      <td>23</td>\n      <td>25</td>\n      <td>27</td>\n      <td>27</td>\n    </tr>\n    <tr>\n      <th>3</th>\n      <td>12 Estias Street, Ampelokipi</td>\n      <td>George P. Pipis</td>\n      <td>28</td>\n      <td>40</td>\n      <td>29</td>\n      <td>29</td>\n    </tr>\n    <tr>\n      <th>4</th>\n      <td>12 Estias Street, Ampelokipi</td>\n      <td>partial text</td>\n      <td>35</td>\n      <td>58</td>\n      <td>41</td>\n      <td>41</td>\n    </tr>\n    <tr>\n      <th>5</th>\n      <td>Georgios Pipis</td>\n      <td>Predictive Hacks is a Data Science Blog</td>\n      <td>23</td>\n      <td>36</td>\n      <td>34</td>\n      <td>34</td>\n    </tr>\n    <tr>\n      <th>6</th>\n      <td>Georgios Pipis</td>\n      <td>Abelokipi, Estias Str 12</td>\n      <td>32</td>\n      <td>43</td>\n      <td>38</td>\n      <td>38</td>\n    </tr>\n    <tr>\n      <th>7</th>\n      <td>Georgios Pipis</td>\n      <td>Fuzzy matching in Python</td>\n      <td>21</td>\n      <td>29</td>\n      <td>21</td>\n      <td>21</td>\n    </tr>\n    <tr>\n      <th>8</th>\n      <td>Georgios Pipis</td>\n      <td>George P. Pipis</td>\n      <td>76</td>\n      <td>71</td>\n      <td>79</td>\n      <td>79</td>\n    </tr>\n    <tr>\n      <th>9</th>\n      <td>Georgios Pipis</td>\n      <td>partial text</td>\n      <td>23</td>\n      <td>25</td>\n      <td>23</td>\n      <td>23</td>\n    </tr>\n    <tr>\n      <th>10</th>\n      <td>fuzzy much in python</td>\n      <td>Predictive Hacks is a Data Science Blog</td>\n      <td>24</td>\n      <td>30</td>\n      <td>24</td>\n      <td>24</td>\n    </tr>\n    <tr>\n      <th>11</th>\n      <td>fuzzy much in python</td>\n      <td>Abelokipi, Estias Str 12</td>\n      <td>18</td>\n      <td>20</td>\n      <td>23</td>\n      <td>23</td>\n    </tr>\n    <tr>\n      <th>12</th>\n      <td>fuzzy much in python</td>\n      <td>Fuzzy matching in Python</td>\n      <td>77</td>\n      <td>70</td>\n      <td>86</td>\n      <td>86</td>\n    </tr>\n    <tr>\n      <th>13</th>\n      <td>fuzzy much in python</td>\n      <td>George P. Pipis</td>\n      <td>23</td>\n      <td>27</td>\n      <td>18</td>\n      <td>18</td>\n    </tr>\n    <tr>\n      <th>14</th>\n      <td>fuzzy much in python</td>\n      <td>partial text</td>\n      <td>19</td>\n      <td>25</td>\n      <td>19</td>\n      <td>19</td>\n    </tr>\n    <tr>\n      <th>15</th>\n      <td>Today is Friday! TGIF</td>\n      <td>Predictive Hacks is a Data Science Blog</td>\n      <td>27</td>\n      <td>38</td>\n      <td>31</td>\n      <td>31</td>\n    </tr>\n    <tr>\n      <th>16</th>\n      <td>Today is Friday! TGIF</td>\n      <td>Abelokipi, Estias Str 12</td>\n      <td>31</td>\n      <td>33</td>\n      <td>33</td>\n      <td>33</td>\n    </tr>\n    <tr>\n      <th>17</th>\n      <td>Today is Friday! TGIF</td>\n      <td>Fuzzy matching in Python</td>\n      <td>27</td>\n      <td>29</td>\n      <td>45</td>\n      <td>45</td>\n    </tr>\n    <tr>\n      <th>18</th>\n      <td>Today is Friday! TGIF</td>\n      <td>George P. Pipis</td>\n      <td>22</td>\n      <td>27</td>\n      <td>24</td>\n      <td>24</td>\n    </tr>\n    <tr>\n      <th>19</th>\n      <td>Today is Friday! TGIF</td>\n      <td>partial text</td>\n      <td>30</td>\n      <td>33</td>\n      <td>38</td>\n      <td>38</td>\n    </tr>\n    <tr>\n      <th>20</th>\n      <td>This is a partial text</td>\n      <td>Predictive Hacks is a Data Science Blog</td>\n      <td>43</td>\n      <td>55</td>\n      <td>39</td>\n      <td>43</td>\n    </tr>\n    <tr>\n      <th>21</th>\n      <td>This is a partial text</td>\n      <td>Abelokipi, Estias Str 12</td>\n      <td>35</td>\n      <td>36</td>\n      <td>40</td>\n      <td>40</td>\n    </tr>\n    <tr>\n      <th>22</th>\n      <td>This is a partial text</td>\n      <td>Fuzzy matching in Python</td>\n      <td>26</td>\n      <td>27</td>\n      <td>39</td>\n      <td>39</td>\n    </tr>\n    <tr>\n      <th>23</th>\n      <td>This is a partial text</td>\n      <td>George P. Pipis</td>\n      <td>22</td>\n      <td>27</td>\n      <td>33</td>\n      <td>33</td>\n    </tr>\n    <tr>\n      <th>24</th>\n      <td>This is a partial text</td>\n      <td>partial text</td>\n      <td>71</td>\n      <td>100</td>\n      <td>71</td>\n      <td>100</td>\n    </tr>\n  </tbody>\n</table>\n</div>"
     },
     "metadata": {},
     "execution_count": 30
    }
   ],
   "source": [
    "df['Ratio'] = df[['Text_A','Text_B']].apply(lambda x:fuzz.ratio(x.Text_A, x.Text_B), axis=1)\n",
    "df['Partial_Ratio'] = df[['Text_A','Text_B']].apply(lambda x:fuzz.partial_ratio(x.Text_A, x.Text_B), axis=1)\n",
    "df['Token_Sort_Ratio'] = df[['Text_A','Text_B']].apply(lambda x:fuzz.token_sort_ratio(x.Text_A, x.Text_B), axis=1)\n",
    "df['Token_Set_Ratio'] = df[['Text_A','Text_B']].apply(lambda x:fuzz.token_set_ratio(x.Text_A, x.Text_B), axis=1)\n",
    "\n",
    "df"
   ]
  },
  {
   "cell_type": "code",
   "execution_count": 31,
   "metadata": {},
   "outputs": [],
   "source": [
    "# Fuzzy Joins\n",
    "\n",
    "# Since we have calculated the pairwise similarities of the text, we can join the two string columns by keeping the most similar pair. Let’s assume that we want to match df1 on df2. We can group the joined df on Text_A and get the rank of similarities and then keep the most similar (i.e. Rank=1). We have to choose measure, and for this example, we will keep the Token_Set_Ratio"
   ]
  },
  {
   "cell_type": "code",
   "execution_count": 32,
   "metadata": {},
   "outputs": [
    {
     "output_type": "execute_result",
     "data": {
      "text/plain": [
       "                          Text_A                    Text_B  Token_Set_Ratio\n",
       "1   12 Estias Street, Ampelokipi  Abelokipi, Estias Str 12               88\n",
       "8                 Georgios Pipis           George P. Pipis               79\n",
       "12          fuzzy much in python  Fuzzy matching in Python               86\n",
       "17         Today is Friday! TGIF  Fuzzy matching in Python               45\n",
       "24        This is a partial text              partial text              100"
      ],
      "text/html": "<div>\n<style scoped>\n    .dataframe tbody tr th:only-of-type {\n        vertical-align: middle;\n    }\n\n    .dataframe tbody tr th {\n        vertical-align: top;\n    }\n\n    .dataframe thead th {\n        text-align: right;\n    }\n</style>\n<table border=\"1\" class=\"dataframe\">\n  <thead>\n    <tr style=\"text-align: right;\">\n      <th></th>\n      <th>Text_A</th>\n      <th>Text_B</th>\n      <th>Token_Set_Ratio</th>\n    </tr>\n  </thead>\n  <tbody>\n    <tr>\n      <th>1</th>\n      <td>12 Estias Street, Ampelokipi</td>\n      <td>Abelokipi, Estias Str 12</td>\n      <td>88</td>\n    </tr>\n    <tr>\n      <th>8</th>\n      <td>Georgios Pipis</td>\n      <td>George P. Pipis</td>\n      <td>79</td>\n    </tr>\n    <tr>\n      <th>12</th>\n      <td>fuzzy much in python</td>\n      <td>Fuzzy matching in Python</td>\n      <td>86</td>\n    </tr>\n    <tr>\n      <th>17</th>\n      <td>Today is Friday! TGIF</td>\n      <td>Fuzzy matching in Python</td>\n      <td>45</td>\n    </tr>\n    <tr>\n      <th>24</th>\n      <td>This is a partial text</td>\n      <td>partial text</td>\n      <td>100</td>\n    </tr>\n  </tbody>\n</table>\n</div>"
     },
     "metadata": {},
     "execution_count": 32
    }
   ],
   "source": [
    "df['Rank_Token_Set_Ratio'] = df.groupby('Text_A')['Token_Set_Ratio'].rank(ascending=False, method='dense')\n",
    "df[['Text_A','Text_B', 'Token_Set_Ratio']].loc[df.Rank_Token_Set_Ratio==1]"
   ]
  },
  {
   "cell_type": "code",
   "execution_count": 33,
   "metadata": {},
   "outputs": [],
   "source": [
    "# As we can see, it captured all the matches but it matched also two strings that are not related. The reason for that is because the text “Today is Friday! TGIF” cannot be matched with any text from Text_B. For that reason, it makes sense to add a threshold. A good threshold is around 70."
   ]
  },
  {
   "cell_type": "code",
   "execution_count": 39,
   "metadata": {},
   "outputs": [
    {
     "output_type": "execute_result",
     "data": {
      "text/plain": [
       "                          Text_A                    Text_B  Token_Set_Ratio\n",
       "1   12 Estias Street, Ampelokipi  Abelokipi, Estias Str 12               88\n",
       "8                 Georgios Pipis           George P. Pipis               79\n",
       "12          fuzzy much in python  Fuzzy matching in Python               86\n",
       "24        This is a partial text              partial text              100"
      ],
      "text/html": "<div>\n<style scoped>\n    .dataframe tbody tr th:only-of-type {\n        vertical-align: middle;\n    }\n\n    .dataframe tbody tr th {\n        vertical-align: top;\n    }\n\n    .dataframe thead th {\n        text-align: right;\n    }\n</style>\n<table border=\"1\" class=\"dataframe\">\n  <thead>\n    <tr style=\"text-align: right;\">\n      <th></th>\n      <th>Text_A</th>\n      <th>Text_B</th>\n      <th>Token_Set_Ratio</th>\n    </tr>\n  </thead>\n  <tbody>\n    <tr>\n      <th>1</th>\n      <td>12 Estias Street, Ampelokipi</td>\n      <td>Abelokipi, Estias Str 12</td>\n      <td>88</td>\n    </tr>\n    <tr>\n      <th>8</th>\n      <td>Georgios Pipis</td>\n      <td>George P. Pipis</td>\n      <td>79</td>\n    </tr>\n    <tr>\n      <th>12</th>\n      <td>fuzzy much in python</td>\n      <td>Fuzzy matching in Python</td>\n      <td>86</td>\n    </tr>\n    <tr>\n      <th>24</th>\n      <td>This is a partial text</td>\n      <td>partial text</td>\n      <td>100</td>\n    </tr>\n  </tbody>\n</table>\n</div>"
     },
     "metadata": {},
     "execution_count": 39
    }
   ],
   "source": [
    "df[['Text_A','Text_B', 'Token_Set_Ratio']].loc[(df.Rank_Token_Set_Ratio==1)&(df.Token_Set_Ratio>70)]"
   ]
  },
  {
   "cell_type": "code",
   "execution_count": null,
   "metadata": {},
   "outputs": [],
   "source": []
  }
 ]
}